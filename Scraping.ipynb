{
 "cells": [
  {
   "cell_type": "code",
   "execution_count": 2,
   "metadata": {},
   "outputs": [],
   "source": [
    "def scrape(url):\n",
    "    from selenium import webdriver\n",
    "    from bs4 import BeautifulSoup\n",
    "    import pandas as pd\n",
    "    import requests\n",
    "    options = webdriver.ChromeOptions()\n",
    "    options.add_argument('--headless')\n",
    "    options.add_argument('--no-sandbox')\n",
    "    options.add_argument('--disable-dev-shm-usage')\n",
    "    \n",
    "    \n",
    "    site = url\n",
    "    \n",
    "    wd = webdriver.Chrome('chromedriver',options=options)\n",
    "    wd.get(site)\n",
    "    \n",
    "    html = wd.page_source\n",
    "    \n",
    "    df = pd.read_html(html)\n",
    "    \n",
    "    return df[0]"
   ]
  },
  {
   "cell_type": "code",
   "execution_count": 8,
   "metadata": {},
   "outputs": [],
   "source": [
    "import sqlite3\n",
    "conn = sqlite3.connect('products.db')\n",
    "c = conn.cursor()"
   ]
  },
  {
   "cell_type": "code",
   "execution_count": null,
   "metadata": {},
   "outputs": [],
   "source": [
    "c.execute('''CREATE TABLE meals(sandwich TEXT, fruit TEXT, tablenumber INT)''')"
   ]
  },
  {
   "cell_type": "code",
   "execution_count": 9,
   "metadata": {},
   "outputs": [
    {
     "name": "stdout",
     "output_type": "stream",
     "text": [
      "Collecting mysql-connector-python\n",
      "  Downloading mysql_connector_python-8.0.25-cp36-cp36m-win_amd64.whl (794 kB)\n",
      "Collecting protobuf>=3.0.0\n",
      "  Downloading protobuf-3.17.3-cp36-cp36m-win_amd64.whl (910 kB)\n",
      "Requirement already satisfied: six>=1.9 in c:\\users\\divyanshu awasthi\\anaconda3\\lib\\site-packages (from protobuf>=3.0.0->mysql-connector-python) (1.11.0)\n",
      "Installing collected packages: protobuf, mysql-connector-python\n",
      "Successfully installed mysql-connector-python-8.0.25 protobuf-3.17.3\n"
     ]
    }
   ],
   "source": [
    "!pip install mysql-connector-python"
   ]
  },
  {
   "cell_type": "code",
   "execution_count": 10,
   "metadata": {},
   "outputs": [
    {
     "name": "stdout",
     "output_type": "stream",
     "text": [
      "Collecting scrapy\n",
      "  Downloading Scrapy-2.5.0-py2.py3-none-any.whl (254 kB)\n",
      "Collecting parsel>=1.5.0\n",
      "  Downloading parsel-1.6.0-py2.py3-none-any.whl (13 kB)\n",
      "Collecting service-identity>=16.0.0\n",
      "  Downloading service_identity-21.1.0-py2.py3-none-any.whl (12 kB)\n",
      "Collecting w3lib>=1.17.0\n",
      "  Downloading w3lib-1.22.0-py2.py3-none-any.whl (20 kB)\n",
      "Requirement already satisfied: cryptography>=2.0 in c:\\users\\divyanshu awasthi\\anaconda3\\lib\\site-packages (from scrapy) (3.1.1)\n",
      "Collecting zope.interface>=4.1.3\n",
      "  Downloading zope.interface-5.4.0-cp36-cp36m-win_amd64.whl (210 kB)\n",
      "Collecting Twisted[http2]>=17.9.0\n",
      "  Downloading Twisted-21.2.0-py3-none-any.whl (3.1 MB)\n",
      "Collecting cssselect>=0.9.1\n",
      "  Downloading cssselect-1.1.0-py2.py3-none-any.whl (16 kB)\n",
      "Requirement already satisfied: lxml>=3.5.0 in c:\\users\\divyanshu awasthi\\anaconda3\\lib\\site-packages (from scrapy) (4.2.1)\n",
      "Collecting protego>=0.1.15\n",
      "  Downloading Protego-0.1.16.tar.gz (3.2 MB)\n",
      "Requirement already satisfied: pyOpenSSL>=16.2.0 in c:\\users\\divyanshu awasthi\\anaconda3\\lib\\site-packages (from scrapy) (18.0.0)\n",
      "Collecting queuelib>=1.4.2\n",
      "  Downloading queuelib-1.6.1-py2.py3-none-any.whl (12 kB)\n",
      "Collecting PyDispatcher>=2.0.5\n",
      "  Downloading PyDispatcher-2.0.5.zip (47 kB)\n",
      "Collecting h2<4.0,>=3.0\n",
      "  Downloading h2-3.2.0-py2.py3-none-any.whl (65 kB)\n",
      "Collecting itemloaders>=1.0.1\n",
      "  Downloading itemloaders-1.0.4-py3-none-any.whl (11 kB)\n",
      "Collecting itemadapter>=0.1.0\n",
      "  Downloading itemadapter-0.3.0-py3-none-any.whl (10 kB)\n",
      "Requirement already satisfied: six>=1.4.1 in c:\\users\\divyanshu awasthi\\anaconda3\\lib\\site-packages (from cryptography>=2.0->scrapy) (1.11.0)\n",
      "Requirement already satisfied: cffi!=1.11.3,>=1.8 in c:\\users\\divyanshu awasthi\\anaconda3\\lib\\site-packages (from cryptography>=2.0->scrapy) (1.11.5)\n",
      "Requirement already satisfied: pycparser in c:\\users\\divyanshu awasthi\\anaconda3\\lib\\site-packages (from cffi!=1.11.3,>=1.8->cryptography>=2.0->scrapy) (2.18)\n",
      "Collecting hpack<4,>=3.0\n",
      "  Downloading hpack-3.0.0-py2.py3-none-any.whl (38 kB)\n",
      "Collecting hyperframe<6,>=5.2.0\n",
      "  Downloading hyperframe-5.2.0-py2.py3-none-any.whl (12 kB)\n",
      "Collecting jmespath>=0.9.5\n",
      "  Downloading jmespath-0.10.0-py2.py3-none-any.whl (24 kB)\n",
      "Collecting attrs>=19.1.0\n",
      "  Downloading attrs-21.2.0-py2.py3-none-any.whl (53 kB)\n",
      "Collecting pyasn1-modules\n",
      "  Downloading pyasn1_modules-0.2.8-py2.py3-none-any.whl (155 kB)\n",
      "Collecting pyasn1\n",
      "  Downloading pyasn1-0.4.8-py2.py3-none-any.whl (77 kB)\n",
      "Collecting twisted-iocpsupport~=1.0.0\n",
      "  Downloading twisted_iocpsupport-1.0.1-cp36-cp36m-win_amd64.whl (44 kB)\n",
      "Collecting constantly>=15.1\n",
      "  Downloading constantly-15.1.0-py2.py3-none-any.whl (7.9 kB)\n",
      "Collecting hyperlink>=17.1.1\n",
      "  Downloading hyperlink-21.0.0-py2.py3-none-any.whl (74 kB)\n",
      "Collecting Automat>=0.8.0\n",
      "  Downloading Automat-20.2.0-py2.py3-none-any.whl (31 kB)\n",
      "Collecting incremental>=16.10.1\n",
      "  Downloading incremental-21.3.0-py2.py3-none-any.whl (15 kB)\n",
      "Collecting priority<2.0,>=1.1.0\n",
      "  Downloading priority-1.3.0-py2.py3-none-any.whl (11 kB)\n",
      "Requirement already satisfied: idna>=2.5 in c:\\users\\divyanshu awasthi\\anaconda3\\lib\\site-packages (from hyperlink>=17.1.1->Twisted[http2]>=17.9.0->scrapy) (2.6)\n",
      "Requirement already satisfied: setuptools in c:\\users\\divyanshu awasthi\\anaconda3\\lib\\site-packages (from zope.interface>=4.1.3->scrapy) (39.1.0)\n",
      "Building wheels for collected packages: protego, PyDispatcher\n",
      "  Building wheel for protego (setup.py): started\n",
      "  Building wheel for protego (setup.py): finished with status 'done'\n",
      "  Created wheel for protego: filename=Protego-0.1.16-py3-none-any.whl size=6802 sha256=a3d98a3ede343df3cffe418c2fd665846370dc1dd74ebbae6276c85d3a5a8c34\n",
      "  Stored in directory: c:\\users\\divyanshu awasthi\\appdata\\local\\pip\\cache\\wheels\\b2\\74\\25\\517a0ec6186297704db56664268e72686f5cfa8ab398582f33\n",
      "  Building wheel for PyDispatcher (setup.py): started\n",
      "  Building wheel for PyDispatcher (setup.py): finished with status 'done'\n",
      "  Created wheel for PyDispatcher: filename=PyDispatcher-2.0.5-py3-none-any.whl size=11527 sha256=c60bb416f37b55e2ee7ffad66ee9bccb60cc86d20b913d12eb34800dfece6a3e\n",
      "  Stored in directory: c:\\users\\divyanshu awasthi\\appdata\\local\\pip\\cache\\wheels\\69\\20\\28\\fbdcea83fadaf56e6e3ed24df2a1b409a8d950d3cce69bbfce\n",
      "Successfully built protego PyDispatcher\n",
      "Installing collected packages: attrs, zope.interface, w3lib, twisted-iocpsupport, pyasn1, incremental, hyperlink, hyperframe, hpack, cssselect, constantly, Automat, Twisted, pyasn1-modules, priority, parsel, jmespath, itemadapter, h2, service-identity, queuelib, PyDispatcher, protego, itemloaders, scrapy\n",
      "  Attempting uninstall: attrs\n",
      "    Found existing installation: attrs 18.1.0\n",
      "    Uninstalling attrs-18.1.0:\n",
      "      Successfully uninstalled attrs-18.1.0\n",
      "Successfully installed Automat-20.2.0 PyDispatcher-2.0.5 Twisted-21.2.0 attrs-21.2.0 constantly-15.1.0 cssselect-1.1.0 h2-3.2.0 hpack-3.0.0 hyperframe-5.2.0 hyperlink-21.0.0 incremental-21.3.0 itemadapter-0.3.0 itemloaders-1.0.4 jmespath-0.10.0 parsel-1.6.0 priority-1.3.0 protego-0.1.16 pyasn1-0.4.8 pyasn1-modules-0.2.8 queuelib-1.6.1 scrapy-2.5.0 service-identity-21.1.0 twisted-iocpsupport-1.0.1 w3lib-1.22.0 zope.interface-5.4.0\n"
     ]
    }
   ],
   "source": [
    "!pip install scrapy"
   ]
  },
  {
   "cell_type": "code",
   "execution_count": null,
   "metadata": {},
   "outputs": [],
   "source": []
  }
 ],
 "metadata": {
  "kernelspec": {
   "display_name": "Python 3",
   "language": "python",
   "name": "python3"
  },
  "language_info": {
   "codemirror_mode": {
    "name": "ipython",
    "version": 3
   },
   "file_extension": ".py",
   "mimetype": "text/x-python",
   "name": "python",
   "nbconvert_exporter": "python",
   "pygments_lexer": "ipython3",
   "version": "3.6.5"
  }
 },
 "nbformat": 4,
 "nbformat_minor": 2
}
